{
 "cells": [
  {
   "cell_type": "code",
   "execution_count": 1,
   "metadata": {},
   "outputs": [],
   "source": [
    "def Preprocess(file):\n",
    "    array = []\n",
    "    for line in f:\n",
    "        array.append(line)\n",
    "    xc = []\n",
    "    yc = []\n",
    "    vertices = {}\n",
    "    edges = []\n",
    "    Cost = {}\n",
    "\n",
    "    dim = int(array[0])\n",
    "    for it in range(1, dim+1):\n",
    "        p = array[it]\n",
    "        tokens = p.split()\n",
    "        xc.append(float(tokens[0]))\n",
    "        yc.append(float(tokens[1]))\n",
    "        vertex = (float(tokens[0]),float(tokens[1]))\n",
    "        vertices[it-1] = vertex\n",
    "    \n",
    "    for v1 in vertices:\n",
    "        for v2 in vertices:\n",
    "            if(v1 != v2):\n",
    "                edge = (vertices[v1],vertices[v2])\n",
    "                edges.append(edge)\n",
    "    \n",
    "    for edge in edges:\n",
    "        v1 = edge[0]\n",
    "        v2 = edge[1]\n",
    "        c = pow(pow(v1[0]-v2[0], 2) + pow(v1[1]-v2[1], 2), 0.5)\n",
    "        Cost[edge] = c\n",
    "    \n",
    "    return Cost, vertices, edges"
   ]
  },
  {
   "cell_type": "code",
   "execution_count": 2,
   "metadata": {},
   "outputs": [],
   "source": [
    "def InitialCandidate(vertices, edges):\n",
    "    candidate = []\n",
    "    for vertex in vertices:\n",
    "        candidate.append(vertex)\n",
    "    return candidate   "
   ]
  },
  {
   "cell_type": "code",
   "execution_count": 3,
   "metadata": {},
   "outputs": [],
   "source": [
    "def Evaluate(candidate, vertices, edges, Cost):\n",
    "    costval = 0\n",
    "    for i in range(len(candidate)-1):\n",
    "        vi1 = candidate[i]\n",
    "        vi2 = candidate[i+1]\n",
    "        v1 = vertices[vi1]\n",
    "        v2 = vertices[vi2]\n",
    "        edge = (v1,v2)\n",
    "        costval += Cost[edge]\n",
    "    ini = candidate[0]\n",
    "    end = candidate[len(candidate) -1]\n",
    "    vini = vertices[ini]\n",
    "    vend = vertices[end]\n",
    "    ed = (vini, vend)\n",
    "    costval += Cost[ed]\n",
    "    return costval      "
   ]
  },
  {
   "cell_type": "code",
   "execution_count": 4,
   "metadata": {},
   "outputs": [],
   "source": [
    "def RandomNeighbor(candidate):\n",
    "    l = len(candidate)\n",
    "    ## randomly sample two vertices with replacement  ###\n",
    "    randomvertices = random.sample(candidate, 2)\n",
    "    v1 = randomvertices[0]\n",
    "    v2 = randomvertices[1]\n",
    "    swapmove = (v1, v2)\n",
    "    newcandidate = []\n",
    "    for vertex in candidate:\n",
    "        if(vertex != v1 and vertex != v2):\n",
    "            newcandidate.append(vertex)\n",
    "        elif(vertex == v1):\n",
    "            newcandidate.append(v2)\n",
    "        elif(vertex == v2):\n",
    "            newcandidate.append(v1)\n",
    "    return newcandidate, swapmove\n",
    "    "
   ]
  },
  {
   "cell_type": "code",
   "execution_count": 5,
   "metadata": {},
   "outputs": [],
   "source": [
    "def SimulatedAnnealingTSP(Cost, vertices, edges, initialT, endT):\n",
    "    initial = InitialCandidate(vertices, edges)\n",
    "    T = initialT\n",
    "    current = initial\n",
    "    global best\n",
    "    global bestobj\n",
    "    while(T > endT):\n",
    "        for ite in range(len(current)):\n",
    "            currentobj = Evaluate(current, vertices, edges, Cost)\n",
    "            new, move = RandomNeighbor(current)\n",
    "            newobj = Evaluate(new, vertices, edges, Cost)\n",
    "            delE = newobj - currentobj\n",
    "            Pcn = 1/(1 + math.exp(delE/T))\n",
    "            ranThresh = random.uniform(0,1)  \n",
    "            if(ranThresh < Pcn):\n",
    "                current = new\n",
    "                currentobj = newobj\n",
    "                if(newobj < bestobj):\n",
    "                    best = new\n",
    "                    bestobj = newobj\n",
    "        T = T*0.999\n"
   ]
  },
  {
   "cell_type": "code",
   "execution_count": 6,
   "metadata": {},
   "outputs": [
    {
     "name": "stdout",
     "output_type": "stream",
     "text": [
      "*******************************************************************************************\n",
      "The Optimal Solution is:\n",
      "1 -> 19 -> 9 -> 7 -> 16 -> 17 -> 0 -> 13 -> 4 -> 11 -> 3 -> 18 -> 5 -> 2 -> 8 -> 10 -> 12 -> 6 -> 15 -> 14 -> 1\n",
      "The optimal objective: 68.37749786793401\n"
     ]
    }
   ],
   "source": [
    "import string\n",
    "import time\n",
    "import sys\n",
    "import random\n",
    "import math\n",
    "\n",
    "f = open(\"C:\\\\Users\\\\Prasangsha\\\\Downloads\\\\TSP_instance_n_20_s_1.dat\")\n",
    "Cost, vertices, edges = Preprocess(f)\n",
    "initial = InitialCandidate(vertices, edges)\n",
    "obj = Evaluate(initial, vertices, edges, Cost)\n",
    "#t, s = RandomNeighbor(initial)\n",
    "#print(initial)\n",
    "#print(t)\n",
    "initialT = 1000\n",
    "endT = 0.1\n",
    "best = initial\n",
    "bestobj = obj\n",
    "\n",
    "SimulatedAnnealingTSP(Cost, vertices, edges, initialT, endT)\n",
    "print(\"*******************************************************************************************\")\n",
    "print(\"The Optimal Solution is:\")\n",
    "for i in range(len(best)):\n",
    "    print(str(best[i]) +\" ->\", end = \" \")\n",
    "print(str(best[0]))\n",
    "print(\"The optimal objective: \"+str(bestobj))"
   ]
  },
  {
   "cell_type": "code",
   "execution_count": null,
   "metadata": {},
   "outputs": [],
   "source": []
  }
 ],
 "metadata": {
  "kernelspec": {
   "display_name": "Python 3",
   "language": "python",
   "name": "python3"
  },
  "language_info": {
   "codemirror_mode": {
    "name": "ipython",
    "version": 3
   },
   "file_extension": ".py",
   "mimetype": "text/x-python",
   "name": "python",
   "nbconvert_exporter": "python",
   "pygments_lexer": "ipython3",
   "version": "3.7.4"
  }
 },
 "nbformat": 4,
 "nbformat_minor": 2
}
